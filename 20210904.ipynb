{
 "cells": [
  {
   "cell_type": "code",
   "execution_count": 20,
   "id": "84f0d00a",
   "metadata": {},
   "outputs": [],
   "source": [
    "import math "
   ]
  },
  {
   "cell_type": "code",
   "execution_count": 22,
   "id": "45c58c8d",
   "metadata": {},
   "outputs": [
    {
     "ename": "SyntaxError",
     "evalue": "invalid syntax (<ipython-input-22-297d4edc9f94>, line 2)",
     "output_type": "error",
     "traceback": [
      "\u001b[1;36m  File \u001b[1;32m\"<ipython-input-22-297d4edc9f94>\"\u001b[1;36m, line \u001b[1;32m2\u001b[0m\n\u001b[1;33m    return math.pi.*radius**2, 2*math.pi*radius\u001b[0m\n\u001b[1;37m                   ^\u001b[0m\n\u001b[1;31mSyntaxError\u001b[0m\u001b[1;31m:\u001b[0m invalid syntax\n"
     ]
    }
   ],
   "source": [
    "def circle(radius):\n",
    "    return math.pi.*radius**2, 2*math.pi*radius"
   ]
  },
  {
   "cell_type": "code",
   "execution_count": 18,
   "id": "6ce6259b",
   "metadata": {},
   "outputs": [
    {
     "ename": "NameError",
     "evalue": "name 'ciarcle' is not defined",
     "output_type": "error",
     "traceback": [
      "\u001b[1;31m---------------------------------------------------------------------------\u001b[0m",
      "\u001b[1;31mNameError\u001b[0m                                 Traceback (most recent call last)",
      "\u001b[1;32m<ipython-input-18-2ac94762883b>\u001b[0m in \u001b[0;36m<module>\u001b[1;34m\u001b[0m\n\u001b[1;32m----> 1\u001b[1;33m \u001b[0mciarcle\u001b[0m\u001b[1;33m(\u001b[0m\u001b[1;36m3\u001b[0m\u001b[1;33m)\u001b[0m\u001b[1;33m\u001b[0m\u001b[1;33m\u001b[0m\u001b[0m\n\u001b[0m",
      "\u001b[1;31mNameError\u001b[0m: name 'ciarcle' is not defined"
     ]
    }
   ],
   "source": [
    "ciarcle(3)"
   ]
  },
  {
   "cell_type": "code",
   "execution_count": 25,
   "id": "53a5d0af",
   "metadata": {
    "scrolled": true
   },
   "outputs": [
    {
     "ename": "SyntaxError",
     "evalue": "EOL while scanning string literal (<ipython-input-25-8901f71ffd2c>, line 4)",
     "output_type": "error",
     "traceback": [
      "\u001b[1;36m  File \u001b[1;32m\"<ipython-input-25-8901f71ffd2c>\"\u001b[1;36m, line \u001b[1;32m4\u001b[0m\n\u001b[1;33m    print(f'the area and circumference of a circle with {x}cm radius are {circle(x)[0]:.2f}cm squared and {ciracle(x)[1]:2f}cm.`)\u001b[0m\n\u001b[1;37m                                                                                                                                 ^\u001b[0m\n\u001b[1;31mSyntaxError\u001b[0m\u001b[1;31m:\u001b[0m EOL while scanning string literal\n"
     ]
    }
   ],
   "source": [
    "#function calls can be embedded.\n",
    "\n",
    "x = 3 \n",
    "print(f'the area and circumference of a circle with {x}cm radius are {circle(x)[0]:.2f}cm squared and {ciracle(x)[1]:2f}cm.`)"
   ]
  },
  {
   "cell_type": "code",
   "execution_count": 26,
   "id": "03d225d1",
   "metadata": {},
   "outputs": [],
   "source": [
    "def myfunction(x,y):\n",
    "    return x+y, x*y, x/y"
   ]
  },
  {
   "cell_type": "code",
   "execution_count": 28,
   "id": "cbe9d916",
   "metadata": {},
   "outputs": [
    {
     "data": {
      "text/plain": [
       "(27, 92, 5.75)"
      ]
     },
     "execution_count": 28,
     "metadata": {},
     "output_type": "execute_result"
    }
   ],
   "source": [
    "myfunction(23,4)"
   ]
  },
  {
   "cell_type": "code",
   "execution_count": 64,
   "id": "c7ab8081",
   "metadata": {},
   "outputs": [],
   "source": [
    "def findmin():\n",
    "    \n",
    "    \"\"\"\"finding the minimum among three integers\"\"\"\n",
    "    \n",
    "    a = int(input('enter first integer: '))\n",
    "    b = int(input('enter first integer: '))\n",
    "    c = int(input('enter first integer: '))\n",
    "    \n",
    "    abcd = a \n",
    "    if b < abcd:\n",
    "        abcd = b\n",
    "    if c < abcd:\n",
    "        abcd = c\n",
    "    return abcd\n",
    "\n",
    "                   "
   ]
  },
  {
   "cell_type": "code",
   "execution_count": 65,
   "id": "17619fa1",
   "metadata": {},
   "outputs": [
    {
     "name": "stdout",
     "output_type": "stream",
     "text": [
      "enter first integer: \n"
     ]
    },
    {
     "ename": "ValueError",
     "evalue": "invalid literal for int() with base 10: ''",
     "output_type": "error",
     "traceback": [
      "\u001b[1;31m---------------------------------------------------------------------------\u001b[0m",
      "\u001b[1;31mValueError\u001b[0m                                Traceback (most recent call last)",
      "\u001b[1;32m<ipython-input-65-8a4a6b4d5dfa>\u001b[0m in \u001b[0;36m<module>\u001b[1;34m\u001b[0m\n\u001b[1;32m----> 1\u001b[1;33m \u001b[0mfindmin\u001b[0m\u001b[1;33m(\u001b[0m\u001b[1;33m)\u001b[0m\u001b[1;33m\u001b[0m\u001b[1;33m\u001b[0m\u001b[0m\n\u001b[0m",
      "\u001b[1;32m<ipython-input-64-fccf2a0b14c4>\u001b[0m in \u001b[0;36mfindmin\u001b[1;34m()\u001b[0m\n\u001b[0;32m      3\u001b[0m     \u001b[1;34m\"\"\"\"finding the minimum among three integers\"\"\"\u001b[0m\u001b[1;33m\u001b[0m\u001b[1;33m\u001b[0m\u001b[0m\n\u001b[0;32m      4\u001b[0m \u001b[1;33m\u001b[0m\u001b[0m\n\u001b[1;32m----> 5\u001b[1;33m     \u001b[0ma\u001b[0m \u001b[1;33m=\u001b[0m \u001b[0mint\u001b[0m\u001b[1;33m(\u001b[0m\u001b[0minput\u001b[0m\u001b[1;33m(\u001b[0m\u001b[1;34m'enter first integer: '\u001b[0m\u001b[1;33m)\u001b[0m\u001b[1;33m)\u001b[0m\u001b[1;33m\u001b[0m\u001b[1;33m\u001b[0m\u001b[0m\n\u001b[0m\u001b[0;32m      6\u001b[0m     \u001b[0mb\u001b[0m \u001b[1;33m=\u001b[0m \u001b[0mint\u001b[0m\u001b[1;33m(\u001b[0m\u001b[0minput\u001b[0m\u001b[1;33m(\u001b[0m\u001b[1;34m'enter first integer: '\u001b[0m\u001b[1;33m)\u001b[0m\u001b[1;33m)\u001b[0m\u001b[1;33m\u001b[0m\u001b[1;33m\u001b[0m\u001b[0m\n\u001b[0;32m      7\u001b[0m     \u001b[0mc\u001b[0m \u001b[1;33m=\u001b[0m \u001b[0mint\u001b[0m\u001b[1;33m(\u001b[0m\u001b[0minput\u001b[0m\u001b[1;33m(\u001b[0m\u001b[1;34m'enter first integer: '\u001b[0m\u001b[1;33m)\u001b[0m\u001b[1;33m)\u001b[0m\u001b[1;33m\u001b[0m\u001b[1;33m\u001b[0m\u001b[0m\n",
      "\u001b[1;31mValueError\u001b[0m: invalid literal for int() with base 10: ''"
     ]
    }
   ],
   "source": [
    "findmin()"
   ]
  },
  {
   "cell_type": "code",
   "execution_count": 69,
   "id": "980f33a2",
   "metadata": {},
   "outputs": [
    {
     "name": "stdout",
     "output_type": "stream",
     "text": [
      "go to 911, right now\n"
     ]
    }
   ],
   "source": [
    "class ft():\n",
    "    print(f\"go to 911, right now\")"
   ]
  },
  {
   "cell_type": "code",
   "execution_count": 71,
   "id": "75ea5f88",
   "metadata": {},
   "outputs": [
    {
     "name": "stdout",
     "output_type": "stream",
     "text": [
      "go to 911, right now, dont go to hell guys\n"
     ]
    }
   ],
   "source": [
    "class ftt():\n",
    "    print(f\"go to 911, right now, dont go to hell guys\")"
   ]
  },
  {
   "cell_type": "code",
   "execution_count": 72,
   "id": "5fc907e6",
   "metadata": {},
   "outputs": [
    {
     "name": "stdout",
     "output_type": "stream",
     "text": [
      "go to 911, right now, this is big deal\n"
     ]
    }
   ],
   "source": [
    "class fttt():\n",
    "    print(f\"go to 911, right now, this is big deal\")"
   ]
  },
  {
   "cell_type": "code",
   "execution_count": 81,
   "id": "123ed7fb",
   "metadata": {},
   "outputs": [
    {
     "ename": "SyntaxError",
     "evalue": "invalid syntax (<ipython-input-81-aeeda041d636>, line 10)",
     "output_type": "error",
     "traceback": [
      "\u001b[1;36m  File \u001b[1;32m\"<ipython-input-81-aeeda041d636>\"\u001b[1;36m, line \u001b[1;32m10\u001b[0m\n\u001b[1;33m    if a < 1000, b <= 5, c <= 100:\u001b[0m\n\u001b[1;37m               ^\u001b[0m\n\u001b[1;31mSyntaxError\u001b[0m\u001b[1;31m:\u001b[0m invalid syntax\n"
     ]
    }
   ],
   "source": [
    "def why():\n",
    "    \n",
    "    a = int(input('enter first integer: '))\n",
    "    b = int(input('enter first integer: '))\n",
    "    c = int(input('enter first integer: '))\n",
    "\n",
    "\n",
    "                \n",
    "                  \n",
    "    if a < 1000, b <= 5, c <= 100:\n",
    "                  print(f\"what the fuck\")\n",
    "                  return import ft()\n",
    "    \n",
    "    if 1000 < a < 10000,  5 < b < 100, c <= 1000\n",
    "                  print(f\"what the fuck\")\n",
    "                  return import ftt()\n",
    "    if 10000 < a < 100000, 101 < b < 1000, c <= 10000\n",
    "                  return import fttt()\n",
    "        \n",
    "                  \n",
    "                  \n",
    "        \n",
    "                  \n",
    "\n",
    "    \n",
    "\n",
    "\n",
    "\n",
    "    \n",
    "    \n"
   ]
  },
  {
   "cell_type": "code",
   "execution_count": null,
   "id": "70899e8b",
   "metadata": {},
   "outputs": [],
   "source": []
  },
  {
   "cell_type": "code",
   "execution_count": null,
   "id": "8e76ce7c",
   "metadata": {},
   "outputs": [],
   "source": []
  },
  {
   "cell_type": "code",
   "execution_count": null,
   "id": "7cae62d2",
   "metadata": {},
   "outputs": [],
   "source": []
  },
  {
   "cell_type": "code",
   "execution_count": null,
   "id": "e7991cc9",
   "metadata": {},
   "outputs": [],
   "source": []
  },
  {
   "cell_type": "code",
   "execution_count": null,
   "id": "7e9756d5",
   "metadata": {},
   "outputs": [],
   "source": []
  },
  {
   "cell_type": "code",
   "execution_count": null,
   "id": "f082f45f",
   "metadata": {},
   "outputs": [],
   "source": []
  },
  {
   "cell_type": "code",
   "execution_count": null,
   "id": "0e7f8f07",
   "metadata": {},
   "outputs": [],
   "source": []
  }
 ],
 "metadata": {
  "kernelspec": {
   "display_name": "Python 3",
   "language": "python",
   "name": "python3"
  },
  "language_info": {
   "codemirror_mode": {
    "name": "ipython",
    "version": 3
   },
   "file_extension": ".py",
   "mimetype": "text/x-python",
   "name": "python",
   "nbconvert_exporter": "python",
   "pygments_lexer": "ipython3",
   "version": "3.8.8"
  }
 },
 "nbformat": 4,
 "nbformat_minor": 5
}
