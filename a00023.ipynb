{
  "nbformat": 4,
  "nbformat_minor": 0,
  "metadata": {
    "colab": {
      "name": "a00023",
      "private_outputs": true,
      "provenance": [],
      "authorship_tag": "ABX9TyPs9qVjJq4VpA5864+NcWpl",
      "include_colab_link": true
    },
    "kernelspec": {
      "name": "python3",
      "display_name": "Python 3"
    },
    "language_info": {
      "name": "python"
    }
  },
  "cells": [
    {
      "cell_type": "markdown",
      "metadata": {
        "id": "view-in-github",
        "colab_type": "text"
      },
      "source": [
        "<a href=\"https://colab.research.google.com/github/ddim7664/ML/blob/main/a00023.ipynb\" target=\"_parent\"><img src=\"https://colab.research.google.com/assets/colab-badge.svg\" alt=\"Open In Colab\"/></a>"
      ]
    },
    {
      "cell_type": "code",
      "metadata": {
        "id": "WPZFcvfF6vPh"
      },
      "source": [
        "def act(observation, configuration):\n",
        "    board = observation.board\n",
        "    columns = configuration.columns\n",
        "    return [c for c in range(columns) if board[c] == 0][0]\n",
        "  "
      ],
      "execution_count": null,
      "outputs": []
    },
    {
      "cell_type": "code",
      "metadata": {
        "id": "_xqxkEVR8dRI"
      },
      "source": [
        "!pip install kaggle_environments # !pip install kaggle-enviroments\n",
        "from kaggle_environments import make, evaluate\n",
        "\n",
        "# Create the game environment\n",
        "# Set debug=True to see the errors if your agent refuses to run\n",
        "env = make(\"connectx\", debug=True)\n",
        "\n",
        "# List of available default agents\n",
        "print(list(env.agents))"
      ],
      "execution_count": null,
      "outputs": []
    },
    {
      "cell_type": "code",
      "metadata": {
        "id": "ti2JIFjB84Ec"
      },
      "source": [
        "# Two random agents play one game round\n",
        "env.run([\"random\", \"random\"])\n",
        "\n",
        "# Show the game\n",
        "env.render(mode=\"ipython\")"
      ],
      "execution_count": null,
      "outputs": []
    },
    {
      "cell_type": "code",
      "metadata": {
        "id": "GJnIXbOt9flP"
      },
      "source": [
        "# Agents play one game round\n",
        "env.run([agent_leftmost, agent_random])\n",
        "\n",
        "# Show the game\n",
        "env.render(mode=\"ipython\")\n"
      ],
      "execution_count": null,
      "outputs": []
    },
    {
      "cell_type": "code",
      "metadata": {
        "id": "lbEIYuDN91Q6"
      },
      "source": [
        "import random\n",
        "import numpy as np"
      ],
      "execution_count": null,
      "outputs": []
    },
    {
      "cell_type": "code",
      "metadata": {
        "id": "pU90OTL396qd"
      },
      "source": [
        "# Selects random valid column\n",
        "def agent_random(obs, config):\n",
        "    valid_moves = [col for col in range(config.columns) if obs.board[col] == 0]\n",
        "    return random.choice(valid_moves)\n",
        "\n",
        "# Selects middle column\n",
        "def agent_middle(obs, config):\n",
        "    return config.columns//2\n",
        "\n",
        "# Selects leftmost valid column\n",
        "def agent_leftmost(obs, config):\n",
        "    valid_moves = [col for col in range(config.columns) if obs.board[col] == 0]\n",
        "    return valid_moves[0]"
      ],
      "execution_count": null,
      "outputs": []
    },
    {
      "cell_type": "code",
      "metadata": {
        "id": "cRdg2aWe-BNt"
      },
      "source": [
        "# Agents play one game round\n",
        "env.run([agent_leftmost, agent_random])\n",
        "\n",
        "# Show the game\n",
        "env.render(mode=\"ipython\")"
      ],
      "execution_count": null,
      "outputs": []
    },
    {
      "cell_type": "code",
      "metadata": {
        "id": "AMcpFTT_-G1z"
      },
      "source": [
        "def get_win_percentages(agent1, agent2, n_rounds=100):\n",
        "    # Use default Connect Four setup\n",
        "    config = {'rows': 6, 'columns': 7, 'inarow': 4}\n",
        "    # Agent 1 goes first (roughly) half the time          \n",
        "    outcomes = evaluate(\"connectx\", [agent1, agent2], config, [], n_rounds//2)\n",
        "    # Agent 2 goes first (roughly) half the time      \n",
        "    outcomes += [[b,a] for [a,b] in evaluate(\"connectx\", [agent2, agent1], config, [], n_rounds-n_rounds//2)]\n",
        "    print(\"Agent 1 Win Percentage:\", np.round(outcomes.count([1,-1])/len(outcomes), 2))\n",
        "    print(\"Agent 2 Win Percentage:\", np.round(outcomes.count([-1,1])/len(outcomes), 2))\n",
        "    print(\"Number of Invalid Plays by Agent 1:\", outcomes.count([None, 0]))\n",
        "    print(\"Number of Invalid Plays by Agent 2:\", outcomes.count([0, None]))"
      ],
      "execution_count": null,
      "outputs": []
    },
    {
      "cell_type": "code",
      "metadata": {
        "id": "Ma2HwpD9-JDA"
      },
      "source": [
        "get_win_percentages(agent1=agent_middle, agent2=agent_random)"
      ],
      "execution_count": null,
      "outputs": []
    },
    {
      "cell_type": "code",
      "metadata": {
        "id": "jzdbuRHb-Mul"
      },
      "source": [
        "get_win_percentages(agent1=agent_leftmost, agent2=agent_random)"
      ],
      "execution_count": null,
      "outputs": []
    },
    {
      "cell_type": "code",
      "metadata": {
        "id": "V37z65jS-PV1"
      },
      "source": [
        "from learntools.core import binder\n",
        "binder.bind(globals())\n",
        "from learntools.game_ai.ex1 import *"
      ],
      "execution_count": null,
      "outputs": []
    },
    {
      "cell_type": "code",
      "metadata": {
        "id": "EEm3Gl6i-Wtg"
      },
      "source": [
        "import numpy as np\n",
        "# Gets board at next step if agent drops piece in selected column\n",
        "def drop_piece(grid, col, piece, config):\n",
        "    next_grid = grid.copy()\n",
        "    for row in range(config.rows-1, -1, -1):\n",
        "        if next_grid[row][col] == 0:\n",
        "            break\n",
        "    next_grid[row][col] = piece\n",
        "    return next_grid\n",
        "​\n",
        "# Returns True if dropping piece in column results in game win\n",
        "def check_winning_move(obs, config, col, piece):\n",
        "    # Convert the board to a 2D grid\n",
        "    grid = np.asarray(obs.board).reshape(config.rows, config.columns)\n",
        "    next_grid = drop_piece(grid, col, piece, config)\n",
        "    # horizontal\n",
        "    for row in range(config.rows):\n",
        "        for col in range(config.columns-(config.inarow-1)):\n",
        "            window = list(next_grid[row,col:col+config.inarow])\n",
        "            if window.count(piece) == config.inarow:\n",
        "                return True\n",
        "    # vertical\n",
        "    for row in range(config.rows-(config.inarow-1)):\n",
        "        for col in range(config.columns):\n",
        "            window = list(next_grid[row:row+config.inarow,col])\n",
        "            if window.count(piece) == config.inarow:\n",
        "                return True\n",
        "    # positive diagonal\n",
        "    for row in range(config.rows-(config.inarow-1)):\n",
        "        for col in range(config.columns-(config.inarow-1)):\n",
        "            window = list(next_grid[range(row, row+config.inarow), range(col, col+config.inarow)])\n",
        "            if window.count(piece) == config.inarow:\n",
        "                return True\n",
        "    # negative diagonal\n",
        "    for row in range(config.inarow-1, config.rows):\n",
        "        for col in range(config.columns-(config.inarow-1)):\n",
        "            window = list(next_grid[range(row, row-config.inarow, -1), range(col, col+config.inarow)])\n",
        "            if window.count(piece) == config.inarow:\n",
        "                return True\n",
        "    return False\n"
      ],
      "execution_count": null,
      "outputs": []
    },
    {
      "cell_type": "code",
      "metadata": {
        "id": "J1wwZSYi_LbW"
      },
      "source": [
        "def agent_q2(obs, config):\n",
        "    # Your code here: Amend the agent!\n",
        "    return 0 \n",
        "​\n",
        "# Check your answer\n",
        "q_2.check()"
      ],
      "execution_count": null,
      "outputs": []
    },
    {
      "cell_type": "code",
      "metadata": {
        "id": "ZzdxT4flPS4d"
      },
      "source": [
        "q_3.solution()"
      ],
      "execution_count": null,
      "outputs": []
    },
    {
      "cell_type": "code",
      "metadata": {
        "id": "BMEXMbn_PYJU"
      },
      "source": [
        "def my_agent(obs, config):\n",
        "    # Your code here: Amend the agent!\n",
        "    import random\n",
        "    valid_moves = [col for col in range(config.columns) if obs.board[col] == 0]\n",
        "    return random.choice(valid_moves)"
      ],
      "execution_count": null,
      "outputs": []
    },
    {
      "cell_type": "code",
      "metadata": {
        "id": "kRaTrts4PdlI"
      },
      "source": [
        "q_4.check()"
      ],
      "execution_count": null,
      "outputs": []
    },
    {
      "cell_type": "code",
      "metadata": {
        "id": "DI0DvtBdPgOK"
      },
      "source": [
        "from kaggle_environments import evaluate, make, utils\n",
        "​\n",
        "env = make(\"connectx\", debug=True)\n",
        "env.play([my_agent, None], width=500, height=450)"
      ],
      "execution_count": null,
      "outputs": []
    },
    {
      "cell_type": "code",
      "metadata": {
        "id": "RK7gv6lDPkHn"
      },
      "source": [
        "import inspect\n",
        "import os\n",
        "\n",
        "def write_agent_to_file(function, file):\n",
        "    with open(file, \"a\" if os.path.exists(file) else \"w\") as f:\n",
        "        f.write(inspect.getsource(function))\n",
        "        print(function, \"written to\", file)\n",
        "\n",
        "write_agent_to_file(my_agent, \"submission.py\")\n",
        "\n",
        "# Check that submission file was created\n",
        "q_5.check()"
      ],
      "execution_count": null,
      "outputs": []
    },
    {
      "cell_type": "code",
      "metadata": {
        "id": "g7EY_3_gPmBx"
      },
      "source": [
        ""
      ],
      "execution_count": null,
      "outputs": []
    }
  ]
}