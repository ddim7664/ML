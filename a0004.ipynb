{
 "cells": [
  {
   "cell_type": "code",
   "execution_count": null,
   "id": "4aeac9f4-6ff0-4234-a417-c3618520c460",
   "metadata": {},
   "outputs": [],
   "source": [
    "import keras as kr \n",
    "import numpy as np\n",
    "import math as ma\n",
    "import pandas as pd \n",
    "import tensorflow as tf "
   ]
  },
  {
   "cell_type": "code",
   "execution_count": null,
   "id": "f2fd2e29-3f6b-4f79-82d3-1c6f34f3f49d",
   "metadata": {},
   "outputs": [],
   "source": []
  },
  {
   "cell_type": "code",
   "execution_count": 2,
   "id": "a8d502da-1a3e-42e3-9168-1809417cfe2f",
   "metadata": {},
   "outputs": [],
   "source": [
    "import keras"
   ]
  },
  {
   "cell_type": "code",
   "execution_count": null,
   "id": "efd5d382-3c7a-4bea-83e9-f568d410c236",
   "metadata": {},
   "outputs": [],
   "source": [
    "keras.__version__"
   ]
  },
  {
   "cell_type": "code",
   "execution_count": null,
   "id": "35982681-5b4a-4cc1-9716-75a89ac88cfc",
   "metadata": {},
   "outputs": [],
   "source": [
    "import nltk"
   ]
  },
  {
   "cell_type": "code",
   "execution_count": 5,
   "id": "7fbdaae8-6f2e-4a41-8f41-7d382fe06a7f",
   "metadata": {},
   "outputs": [
    {
     "name": "stdout",
     "output_type": "stream",
     "text": [
      "showing info https://raw.githubusercontent.com/nltk/nltk_data/gh-pages/index.xml\n"
     ]
    },
    {
     "data": {
      "text/plain": [
       "True"
      ]
     },
     "execution_count": 5,
     "metadata": {},
     "output_type": "execute_result"
    }
   ],
   "source": [
    "nltk.download()"
   ]
  },
  {
   "cell_type": "code",
   "execution_count": null,
   "id": "2813b5df-19d6-49ae-ab0a-a2bdbb8f921f",
   "metadata": {},
   "outputs": [],
   "source": [
    "a = np.array([[10,20,30],[60,70,80]])\n",
    "print(a)"
   ]
  },
  {
   "cell_type": "code",
   "execution_count": null,
   "id": "cc44953b-b96c-4ecf-90f3-9dc0b7395575",
   "metadata": {},
   "outputs": [],
   "source": [
    "print(b.ndim)"
   ]
  },
  {
   "cell_type": "code",
   "execution_count": null,
   "id": "414b53cc-a07c-4d13-9264-e13b6f3523a5",
   "metadata": {},
   "outputs": [],
   "source": [
    "print(b.shape)"
   ]
  },
  {
   "cell_type": "code",
   "execution_count": null,
   "id": "3a1b217e-618b-4c54-b69f-00a31828f354",
   "metadata": {},
   "outputs": [],
   "source": [
    "c = np.zeros((2,3))\n",
    "print(c)"
   ]
  },
  {
   "cell_type": "code",
   "execution_count": null,
   "id": "4b880e47-bed8-4226-8191-7443ec5c197a",
   "metadata": {},
   "outputs": [],
   "source": [
    "d = np.ones((3,4))"
   ]
  },
  {
   "cell_type": "code",
   "execution_count": null,
   "id": "034c90bd-dffe-48b4-8324-2e5d4a357d53",
   "metadata": {},
   "outputs": [],
   "source": [
    "print(d)"
   ]
  },
  {
   "cell_type": "code",
   "execution_count": null,
   "id": "fbb2776b-c887-4ee4-be95-a46c5cc6abec",
   "metadata": {},
   "outputs": [],
   "source": [
    "e = np.eye(3)\n",
    "print(e)\n"
   ]
  },
  {
   "cell_type": "code",
   "execution_count": null,
   "id": "bc8aebe9-4ea8-4151-9865-c1d90eb7b962",
   "metadata": {},
   "outputs": [],
   "source": [
    "f = np.random.random((2,2))\n",
    "print(f)"
   ]
  },
  {
   "cell_type": "code",
   "execution_count": null,
   "id": "a35f3a7d-cf1f-4bab-a4d0-9c866d284371",
   "metadata": {},
   "outputs": [],
   "source": [
    "a = np.arange(10)\n",
    "print(a)"
   ]
  },
  {
   "cell_type": "code",
   "execution_count": null,
   "id": "e99a46e2-801e-4363-8eeb-062562edfd9d",
   "metadata": {},
   "outputs": [],
   "source": [
    "bc = np.arange(1, 100, 5)\n",
    "print(bc)"
   ]
  },
  {
   "cell_type": "code",
   "execution_count": null,
   "id": "ed44be26-93b9-4843-b651-f532ea3927d0",
   "metadata": {},
   "outputs": [],
   "source": [
    "bcd = np.array(np.arange(34)).reshape((13,24))"
   ]
  },
  {
   "cell_type": "code",
   "execution_count": null,
   "id": "51615908-03b5-4e23-acee-c75cf4fa720f",
   "metadata": {},
   "outputs": [],
   "source": [
    "xxx= np.array([[1,2,3,],[4,5,6]])\n",
    "yyy= xxx[0:2, 0:4] \n",
    "print(yyy)"
   ]
  },
  {
   "cell_type": "code",
   "execution_count": null,
   "id": "b1f70d06-43ec-4906-a03e-318123bdfdad",
   "metadata": {},
   "outputs": [],
   "source": [
    "abcd = np.array([1,2,3])\n",
    "abcde = np.array([4,5,7])"
   ]
  },
  {
   "cell_type": "code",
   "execution_count": null,
   "id": "6211e119-8923-4b26-9f00-86210a833603",
   "metadata": {},
   "outputs": [],
   "source": [
    "plt.title('test')\n",
    "plt.plot([1,2,3,4],[2,5,10,30])\n",
    "plt.show()"
   ]
  },
  {
   "cell_type": "code",
   "execution_count": null,
   "id": "41153fee-164f-4376-a972-6b8d9c356268",
   "metadata": {},
   "outputs": [],
   "source": []
  },
  {
   "cell_type": "code",
   "execution_count": null,
   "id": "d06ed245-afa8-4905-b39b-6c307d9fad41",
   "metadata": {},
   "outputs": [],
   "source": []
  }
 ],
 "metadata": {
  "kernelspec": {
   "display_name": "Python 3",
   "language": "python",
   "name": "python3"
  },
  "language_info": {
   "codemirror_mode": {
    "name": "ipython",
    "version": 3
   },
   "file_extension": ".py",
   "mimetype": "text/x-python",
   "name": "python",
   "nbconvert_exporter": "python",
   "pygments_lexer": "ipython3",
   "version": "3.8.8"
  }
 },
 "nbformat": 4,
 "nbformat_minor": 5
}
